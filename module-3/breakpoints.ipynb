{
  "cells": [
    {
      "cell_type": "markdown",
      "metadata": {
        "id": "view-in-github",
        "colab_type": "text"
      },
      "source": [
        "<a href=\"https://colab.research.google.com/github/venezianof/booksum/blob/main/module-3/breakpoints.ipynb\" target=\"_parent\"><img src=\"https://colab.research.google.com/assets/colab-badge.svg\" alt=\"Open In Colab\"/></a>"
      ]
    },
    {
      "cell_type": "markdown",
      "id": "1012a788",
      "metadata": {
        "id": "1012a788"
      },
      "source": [
        "[![Open in Colab](https://colab.research.google.com/assets/colab-badge.svg)](https://colab.research.google.com/github/langchain-ai/langchain-academy/blob/main/module-3/breakpoints.ipynb) [![Open in LangChain Academy](https://cdn.prod.website-files.com/65b8cd72835ceeacd4449a53/66e9eba12c7b7688aa3dbb5e_LCA-badge-green.svg)](https://academy.langchain.com/courses/take/intro-to-langgraph/lessons/58239469-lesson-2-breakpoints)"
      ]
    },
    {
      "cell_type": "markdown",
      "id": "d4aa16f5-abc8-4ed3-8a71-54837fe46917",
      "metadata": {
        "id": "d4aa16f5-abc8-4ed3-8a71-54837fe46917"
      },
      "source": [
        "# Breakpoints\n",
        "\n",
        "## Review\n",
        "\n",
        "For `human-in-the-loop`, we often want to see our graph outputs as its running.\n",
        "\n",
        "We laid the foundations for this with streaming.\n",
        "\n",
        "## Goals\n",
        "\n",
        "Now, let's talk about the motivations for `human-in-the-loop`:\n",
        "\n",
        "(1) `Approval` - We can interrupt our agent, surface state to a user, and allow the user to accept an action\n",
        "\n",
        "(2) `Debugging` - We can rewind the graph to reproduce or avoid issues\n",
        "\n",
        "(3) `Editing` - You can modify the state\n",
        "\n",
        "LangGraph offers several ways to get or update agent state to support various `human-in-the-loop` workflows.\n",
        "\n",
        "First, we'll introduce [breakpoints](https://langchain-ai.github.io/langgraph/how-tos/human_in_the_loop/breakpoints/#simple-usage), which provide a simple way to stop the graph at specific steps.\n",
        "\n",
        "We'll show how this enables user `approval`."
      ]
    },
    {
      "cell_type": "code",
      "execution_count": null,
      "id": "35842345-0694-4f0a-aa62-7d4898abf653",
      "metadata": {
        "id": "35842345-0694-4f0a-aa62-7d4898abf653"
      },
      "outputs": [],
      "source": [
        "%%capture --no-stderr\n",
        "%pip install --quiet -U langgraph langchain_openai langgraph_sdk langgraph-prebuilt"
      ]
    },
    {
      "cell_type": "code",
      "execution_count": null,
      "id": "67d91f7c",
      "metadata": {
        "id": "67d91f7c"
      },
      "outputs": [],
      "source": [
        "import os, getpass\n",
        "\n",
        "def _set_env(var: str):\n",
        "    if not os.environ.get(var):\n",
        "        os.environ[var] = getpass.getpass(f\"{var}: \")\n",
        "\n",
        "_set_env(\"OPENAI_API_KEY\")"
      ]
    },
    {
      "cell_type": "markdown",
      "id": "31d8b4cd-e3ff-48cc-b7b2-f83fadb1c86b",
      "metadata": {
        "id": "31d8b4cd-e3ff-48cc-b7b2-f83fadb1c86b"
      },
      "source": [
        "## Breakpoints for human approval\n",
        "\n",
        "Let's re-consider the simple agent that we worked with in Module 1.\n",
        "\n",
        "Let's assume that are concerned about tool use: we want to approve the agent to use any of its tools.\n",
        "\n",
        "All we need to do is simply compile the graph with `interrupt_before=[\"tools\"]` where `tools` is our tools node.\n",
        "\n",
        "This means that the execution will be interrupted before the node `tools`, which executes the tool call."
      ]
    },
    {
      "cell_type": "code",
      "execution_count": null,
      "id": "b94d1a90-2fe3-4b2a-a901-3bdb89e37edc",
      "metadata": {
        "id": "b94d1a90-2fe3-4b2a-a901-3bdb89e37edc"
      },
      "outputs": [],
      "source": [
        "from langchain_openai import ChatOpenAI\n",
        "\n",
        "def multiply(a: int, b: int) -> int:\n",
        "    \"\"\"Multiply a and b.\n",
        "\n",
        "    Args:\n",
        "        a: first int\n",
        "        b: second int\n",
        "    \"\"\"\n",
        "    return a * b\n",
        "\n",
        "# This will be a tool\n",
        "def add(a: int, b: int) -> int:\n",
        "    \"\"\"Adds a and b.\n",
        "\n",
        "    Args:\n",
        "        a: first int\n",
        "        b: second int\n",
        "    \"\"\"\n",
        "    return a + b\n",
        "\n",
        "def divide(a: int, b: int) -> float:\n",
        "    \"\"\"Divide a by b.\n",
        "\n",
        "    Args:\n",
        "        a: first int\n",
        "        b: second int\n",
        "    \"\"\"\n",
        "    return a / b\n",
        "\n",
        "tools = [add, multiply, divide]\n",
        "llm = ChatOpenAI(model=\"gpt-4o\")\n",
        "llm_with_tools = llm.bind_tools(tools)"
      ]
    },
    {
      "cell_type": "code",
      "execution_count": null,
      "id": "ac06feae-d12b-490b-95e7-38cf40b74202",
      "metadata": {
        "id": "ac06feae-d12b-490b-95e7-38cf40b74202"
      },
      "outputs": [],
      "source": [
        "from IPython.display import Image, display\n",
        "\n",
        "from langgraph.checkpoint.memory import MemorySaver\n",
        "from langgraph.graph import MessagesState\n",
        "from langgraph.graph import START, StateGraph\n",
        "from langgraph.prebuilt import tools_condition, ToolNode\n",
        "\n",
        "from langchain_core.messages import AIMessage, HumanMessage, SystemMessage\n",
        "\n",
        "# System message\n",
        "sys_msg = SystemMessage(content=\"You are a helpful assistant tasked with performing arithmetic on a set of inputs.\")\n",
        "\n",
        "# Node\n",
        "def assistant(state: MessagesState):\n",
        "   return {\"messages\": [llm_with_tools.invoke([sys_msg] + state[\"messages\"])]}\n",
        "\n",
        "# Graph\n",
        "builder = StateGraph(MessagesState)\n",
        "\n",
        "# Define nodes: these do the work\n",
        "builder.add_node(\"assistant\", assistant)\n",
        "builder.add_node(\"tools\", ToolNode(tools))\n",
        "\n",
        "# Define edges: these determine the control flow\n",
        "builder.add_edge(START, \"assistant\")\n",
        "builder.add_conditional_edges(\n",
        "    \"assistant\",\n",
        "    # If the latest message (result) from assistant is a tool call -> tools_condition routes to tools\n",
        "    # If the latest message (result) from assistant is a not a tool call -> tools_condition routes to END\n",
        "    tools_condition,\n",
        ")\n",
        "builder.add_edge(\"tools\", \"assistant\")\n",
        "\n",
        "memory = MemorySaver()\n",
        "graph = builder.compile(interrupt_before=[\"tools\"], checkpointer=memory)\n",
        "\n",
        "# Show\n",
        "display(Image(graph.get_graph(xray=True).draw_mermaid_png()))"
      ]
    },
    {
      "cell_type": "code",
      "execution_count": null,
      "id": "a783efac-46a9-4fb4-a1c6-a11b02540448",
      "metadata": {
        "id": "a783efac-46a9-4fb4-a1c6-a11b02540448"
      },
      "outputs": [],
      "source": [
        "# Input\n",
        "initial_input = {\"messages\": HumanMessage(content=\"Multiply 2 and 3\")}\n",
        "\n",
        "# Thread\n",
        "thread = {\"configurable\": {\"thread_id\": \"1\"}}\n",
        "\n",
        "# Run the graph until the first interruption\n",
        "for event in graph.stream(initial_input, thread, stream_mode=\"values\"):\n",
        "    event['messages'][-1].pretty_print()"
      ]
    },
    {
      "cell_type": "markdown",
      "id": "50d49669-b1a5-42c2-bdb8-052da89bd7c4",
      "metadata": {
        "id": "50d49669-b1a5-42c2-bdb8-052da89bd7c4"
      },
      "source": [
        "We can get the state and look at the next node to call.\n",
        "\n",
        "This is a nice way to see that the graph has been interrupted."
      ]
    },
    {
      "cell_type": "code",
      "execution_count": null,
      "id": "61569596-8342-4a37-9c99-e3a9dccb18ee",
      "metadata": {
        "id": "61569596-8342-4a37-9c99-e3a9dccb18ee"
      },
      "outputs": [],
      "source": [
        "state = graph.get_state(thread)\n",
        "state.next"
      ]
    },
    {
      "cell_type": "markdown",
      "id": "2fea0fb5-3145-4f34-bcc0-9c9e8972d6b4",
      "metadata": {
        "id": "2fea0fb5-3145-4f34-bcc0-9c9e8972d6b4"
      },
      "source": [
        "Now, we'll introduce a nice trick.\n",
        "\n",
        "When we invoke the graph with `None`, it will just continue from the last state checkpoint!\n",
        "\n",
        "![breakpoints.jpg](https://cdn.prod.website-files.com/65b8cd72835ceeacd4449a53/66dbae7985b747dfed67775d_breakpoints1.png)\n",
        "\n",
        "For clarity, LangGraph will re-emit the current state, which contains the `AIMessage` with tool call.\n",
        "\n",
        "And then it will proceed to execute the following steps in the graph, which start with the tool node.\n",
        "\n",
        "We see that the tool node is run with this tool call, and it's passed back to the chat model for our final answer."
      ]
    },
    {
      "cell_type": "code",
      "execution_count": null,
      "id": "896a5f41-7386-4bfa-a78e-3e6ca5e26641",
      "metadata": {
        "id": "896a5f41-7386-4bfa-a78e-3e6ca5e26641"
      },
      "outputs": [],
      "source": [
        "for event in graph.stream(None, thread, stream_mode=\"values\"):\n",
        "    event['messages'][-1].pretty_print()"
      ]
    },
    {
      "cell_type": "markdown",
      "id": "37f91a0c-7cc1-4437-adc7-b36abb29beb1",
      "metadata": {
        "id": "37f91a0c-7cc1-4437-adc7-b36abb29beb1"
      },
      "source": [
        "Now, lets bring these together with a specific user approval step that accepts user input."
      ]
    },
    {
      "cell_type": "code",
      "execution_count": null,
      "id": "95a0eb50-66e3-4538-8103-207aae175154",
      "metadata": {
        "id": "95a0eb50-66e3-4538-8103-207aae175154"
      },
      "outputs": [],
      "source": [
        "# Input\n",
        "initial_input = {\"messages\": HumanMessage(content=\"Multiply 2 and 3\")}\n",
        "\n",
        "# Thread\n",
        "thread = {\"configurable\": {\"thread_id\": \"2\"}}\n",
        "\n",
        "# Run the graph until the first interruption\n",
        "for event in graph.stream(initial_input, thread, stream_mode=\"values\"):\n",
        "    event['messages'][-1].pretty_print()\n",
        "\n",
        "# Get user feedback\n",
        "user_approval = input(\"Do you want to call the tool? (yes/no): \")\n",
        "\n",
        "# Check approval\n",
        "if user_approval.lower() == \"yes\":\n",
        "\n",
        "    # If approved, continue the graph execution\n",
        "    for event in graph.stream(None, thread, stream_mode=\"values\"):\n",
        "        event['messages'][-1].pretty_print()\n",
        "\n",
        "else:\n",
        "    print(\"Operation cancelled by user.\")"
      ]
    },
    {
      "cell_type": "markdown",
      "id": "b8ff8762-6fa1-4373-954a-e7f479ee0efb",
      "metadata": {
        "id": "b8ff8762-6fa1-4373-954a-e7f479ee0efb"
      },
      "source": [
        "### Breakpoints with LangGraph API\n",
        "\n",
        "**⚠️ DISCLAIMER**\n",
        "\n",
        "Since the filming of these videos, we've updated Studio so that it can be run locally and opened in your browser. This is now the preferred way to run Studio (rather than using the Desktop App as shown in the video). See documentation [here](https://langchain-ai.github.io/langgraph/concepts/langgraph_studio/#local-development-server) on the local development server and [here](https://langchain-ai.github.io/langgraph/how-tos/local-studio/#run-the-development-server). To start the local development server, run the following command in your terminal in the `/studio` directory in this module:\n",
        "\n",
        "```\n",
        "langgraph dev\n",
        "```\n",
        "\n",
        "You should see the following output:\n",
        "```\n",
        "- 🚀 API: http://127.0.0.1:2024\n",
        "- 🎨 Studio UI: https://smith.langchain.com/studio/?baseUrl=http://127.0.0.1:2024\n",
        "- 📚 API Docs: http://127.0.0.1:2024/docs\n",
        "```\n",
        "\n",
        "Open your browser and navigate to the Studio UI: `https://smith.langchain.com/studio/?baseUrl=http://127.0.0.1:2024`.\n",
        "\n",
        "The LangGraph API [supports breakpoints](https://langchain-ai.github.io/langgraph/cloud/how-tos/human_in_the_loop_breakpoint/#sdk-initialization)."
      ]
    },
    {
      "cell_type": "code",
      "execution_count": null,
      "id": "63c2eaf1-6b8b-4d80-9902-98ae5587bcf9",
      "metadata": {
        "id": "63c2eaf1-6b8b-4d80-9902-98ae5587bcf9"
      },
      "outputs": [],
      "source": [
        "if 'google.colab' in str(get_ipython()):\n",
        "    raise Exception(\"Unfortunately LangGraph Studio is currently not supported on Google Colab\")"
      ]
    },
    {
      "cell_type": "code",
      "execution_count": null,
      "id": "fb1dd890-c216-4802-9e33-b637e491e144",
      "metadata": {
        "id": "fb1dd890-c216-4802-9e33-b637e491e144"
      },
      "outputs": [],
      "source": [
        "# This is the URL of the local development server\n",
        "from langgraph_sdk import get_client\n",
        "client = get_client(url=\"http://127.0.0.1:2024\")"
      ]
    },
    {
      "cell_type": "markdown",
      "id": "1e80d969-d065-45d7-8bfc-a403a0a1079b",
      "metadata": {
        "id": "1e80d969-d065-45d7-8bfc-a403a0a1079b"
      },
      "source": [
        "As shown above, we can add `interrupt_before=[\"node\"]` when compiling the graph that is running in Studio.\n",
        "\n",
        "However, with the API, you can also pass `interrupt_before` to the stream method directly."
      ]
    },
    {
      "cell_type": "code",
      "execution_count": null,
      "id": "de9c5017-3a15-46f6-8edf-3997613da323",
      "metadata": {
        "id": "de9c5017-3a15-46f6-8edf-3997613da323"
      },
      "outputs": [],
      "source": [
        "initial_input = {\"messages\": HumanMessage(content=\"Multiply 2 and 3\")}\n",
        "thread = await client.threads.create()\n",
        "async for chunk in client.runs.stream(\n",
        "    thread[\"thread_id\"],\n",
        "    assistant_id=\"agent\",\n",
        "    input=initial_input,\n",
        "    stream_mode=\"values\",\n",
        "    interrupt_before=[\"tools\"],\n",
        "):\n",
        "    print(f\"Receiving new event of type: {chunk.event}...\")\n",
        "    messages = chunk.data.get('messages', [])\n",
        "    if messages:\n",
        "        print(messages[-1])\n",
        "    print(\"-\" * 50)"
      ]
    },
    {
      "cell_type": "markdown",
      "id": "b64272d1-c6ee-435f-9890-9b6c3525ca6c",
      "metadata": {
        "id": "b64272d1-c6ee-435f-9890-9b6c3525ca6c"
      },
      "source": [
        "Now, we can proceed from the breakpoint just like we did before by passing the `thread_id` and `None` as the input!"
      ]
    },
    {
      "cell_type": "code",
      "execution_count": null,
      "id": "76284730-9c90-46c4-8295-400a49760b07",
      "metadata": {
        "id": "76284730-9c90-46c4-8295-400a49760b07"
      },
      "outputs": [],
      "source": [
        "async for chunk in client.runs.stream(\n",
        "    thread[\"thread_id\"],\n",
        "    \"agent\",\n",
        "    input=None,\n",
        "    stream_mode=\"values\",\n",
        "    interrupt_before=[\"tools\"],\n",
        "):\n",
        "    print(f\"Receiving new event of type: {chunk.event}...\")\n",
        "    messages = chunk.data.get('messages', [])\n",
        "    if messages:\n",
        "        print(messages[-1])\n",
        "    print(\"-\" * 50)"
      ]
    },
    {
      "source": [
        "!pip install langgraph"
      ],
      "cell_type": "code",
      "metadata": {
        "id": "x1KOIQP2QGzV"
      },
      "id": "x1KOIQP2QGzV",
      "execution_count": null,
      "outputs": []
    },
    {
      "source": [
        "from google.colab import drive\n",
        "drive.mount('/content/drive')\n",
        "%cd /content/drive/MyDrive/studio"
      ],
      "cell_type": "code",
      "metadata": {
        "id": "jTe8FnBpQH73"
      },
      "id": "jTe8FnBpQH73",
      "execution_count": null,
      "outputs": []
    },
    {
      "source": [
        "!mkdir studio\n",
        "%cd studio"
      ],
      "cell_type": "code",
      "metadata": {
        "id": "9lLH0BBHQId8"
      },
      "id": "9lLH0BBHQId8",
      "execution_count": null,
      "outputs": []
    },
    {
      "source": [
        "!langgraph dev"
      ],
      "cell_type": "code",
      "metadata": {
        "id": "9NW_wTmRQJF-"
      },
      "id": "9NW_wTmRQJF-",
      "execution_count": null,
      "outputs": []
    },
    {
      "source": [
        "- 🚀 API: http://127.0.0.1:2024\n",
        "- 🎨 Studio UI: https://smith.langchain.com/studio/?baseUrl=http://127.0.0.1:2024\n",
        "- 📚 API Docs: http://127.0.0.1:2024/docs"
      ],
      "cell_type": "code",
      "metadata": {
        "id": "qswLmNgZQLl4"
      },
      "id": "qswLmNgZQLl4",
      "execution_count": null,
      "outputs": []
    },
    {
      "source": [
        "!pip install langgraph"
      ],
      "cell_type": "code",
      "metadata": {
        "id": "Z2zHJ0SjQvJc"
      },
      "id": "Z2zHJ0SjQvJc",
      "execution_count": null,
      "outputs": []
    },
    {
      "source": [
        "from google.colab import drive\n",
        "   drive.mount('/content/drive')"
      ],
      "cell_type": "code",
      "metadata": {
        "id": "-6mHxd_dQvjM"
      },
      "id": "-6mHxd_dQvjM",
      "execution_count": null,
      "outputs": []
    },
    {
      "source": [
        "from google.colab import drive\n",
        "   drive.mount('/content/drive')"
      ],
      "cell_type": "code",
      "metadata": {
        "id": "sHT2yc2zQvwq"
      },
      "id": "sHT2yc2zQvwq",
      "execution_count": null,
      "outputs": []
    },
    {
      "source": [
        "!mkdir studio\n",
        "   %cd studio"
      ],
      "cell_type": "code",
      "metadata": {
        "id": "GBwMmoCWQwVK"
      },
      "id": "GBwMmoCWQwVK",
      "execution_count": null,
      "outputs": []
    },
    {
      "source": [
        "!langgraph dev"
      ],
      "cell_type": "code",
      "metadata": {
        "id": "_R-Y-51KQxJU"
      },
      "id": "_R-Y-51KQxJU",
      "execution_count": null,
      "outputs": []
    },
    {
      "source": [
        "- 🚀 API: http://127.0.0.1:2024\n",
        "   - 🎨 Studio UI: https://smith.langchain.com/studio/?baseUrl=http://127.0.0.1:2024\n",
        "   - 📚 API Docs: http://127.0.0.1:2024/docs"
      ],
      "cell_type": "code",
      "metadata": {
        "id": "ABXE6y8qQxf5"
      },
      "id": "ABXE6y8qQxf5",
      "execution_count": null,
      "outputs": []
    },
    {
      "cell_type": "markdown",
      "id": "4575970f-42e2-4d03-b18a-aacaa8233b53",
      "metadata": {
        "id": "4575970f-42e2-4d03-b18a-aacaa8233b53"
      },
      "source": []
    }
  ],
  "metadata": {
    "kernelspec": {
      "display_name": "academy",
      "language": "python",
      "name": "python3"
    },
    "language_info": {
      "codemirror_mode": {
        "name": "ipython",
        "version": 3
      },
      "file_extension": ".py",
      "mimetype": "text/x-python",
      "name": "python",
      "nbconvert_exporter": "python",
      "pygments_lexer": "ipython3",
      "version": "3.11.8"
    },
    "colab": {
      "provenance": [],
      "include_colab_link": true
    }
  },
  "nbformat": 4,
  "nbformat_minor": 5
}