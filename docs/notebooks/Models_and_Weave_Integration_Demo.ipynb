{
  "cells": [
    {
      "cell_type": "markdown",
      "metadata": {
        "id": "view-in-github",
        "colab_type": "text"
      },
      "source": [
        "<a href=\"https://colab.research.google.com/github/venezianof/booksum/blob/main/docs/notebooks/Models_and_Weave_Integration_Demo.ipynb\" target=\"_parent\"><img src=\"https://colab.research.google.com/assets/colab-badge.svg\" alt=\"Open In Colab\"/></a>"
      ]
    },
    {
      "cell_type": "markdown",
      "metadata": {
        "id": "Z_U2yjSvQKje"
      },
      "source": [
        "# Use Weave with W&B Models\n",
        "\n",
        "This notebook demonstrates how to use W&B Weave with [W&B Models](https://docs.wandb.ai/guides/) using the scenario of two different teams working on an end-to-end implementation of a Retrieval-Augmented Generation (RAG) application, from fine-tuning the model to building an app around the model. Specifically, the Model Team fine-tunes a new Chat Model (Llama 3.2),and saves it to the [W&B Models Registry](https://docs.wandb.ai/guides/registry/). Then, the App Team retrieves the fine-tuned Chat Model from the Registry, and uses Weave to create and evaluate a RAG chatbot application\n",
        "\n",
        "The guide walks you through the following steps, which are the same steps that the teams in the described scenario would follow:\n",
        "\n",
        "1. Downloading a fine-tuned Llama 3.2 model registered in [W&B Models Registry](https://docs.wandb.ai/guides/registry/)\n",
        "2. Implementing a RAG application using the fine-tuned Llama 3.2 model\n",
        "3. Tracking and evaluating the RAG application using Weave\n",
        "4. Registering the improved RAG app to Registry\n",
        "\n",
        "Find the public workspace for both W&B Models and W&B Weave [here](https://wandb.ai/wandb-smle/weave-cookboook-demo/weave/evaluations).\n",
        "\n",
        "<img src=\"https://github.com/NiWaRe/agent-dev-collection/blob/master/screenshots/weave_models_workflow.jpeg?raw=true\"  alt=\"Weights & Biases\" />\n",
        "\n",
        "\n",
        "\n",
        "\n"
      ]
    },
    {
      "cell_type": "markdown",
      "metadata": {
        "id": "HiSGvI1G--5g"
      },
      "source": [
        "## Prerequisites\n",
        "\n",
        "First, install the necessary libraries, set up API keys, log in to W&B, and create a new W&B project."
      ]
    },
    {
      "cell_type": "markdown",
      "metadata": {
        "id": "Vf3Dlfx_227t"
      },
      "source": [
        "1. Install `weave`, `pandas`, `unsloth`, `wandb`, `litellm`, `pydantic`, `torch`, and `faiss-gpu` using `pip`."
      ]
    },
    {
      "cell_type": "code",
      "execution_count": 4,
      "metadata": {
        "collapsed": true,
        "id": "TR2A-Mr623f4"
      },
      "outputs": [],
      "source": [
        "%%capture\n",
        "!pip install weave wandb pandas pydantic litellm faiss-gpu"
      ]
    },
    {
      "cell_type": "code",
      "execution_count": 5,
      "metadata": {
        "collapsed": true,
        "id": "eKzwODgCRUxw"
      },
      "outputs": [],
      "source": [
        "%%capture\n",
        "!pip install unsloth\n",
        "# Also get the latest nightly Unsloth!\n",
        "!pip uninstall unsloth -y && pip install --upgrade --no-cache-dir \"unsloth[colab-new] @ git+https://github.com/unslothai/unsloth.git\""
      ]
    },
    {
      "cell_type": "markdown",
      "metadata": {
        "id": "1SyLv6Rm227v"
      },
      "source": [
        "2. Add the necessary API keys from your environment."
      ]
    },
    {
      "cell_type": "code",
      "execution_count": 6,
      "metadata": {
        "id": "95EfDKCT339H",
        "colab": {
          "base_uri": "https://localhost:8080/",
          "height": 332
        },
        "outputId": "c01ea421-68cb-42bf-c73c-69a85060206a"
      },
      "outputs": [
        {
          "output_type": "error",
          "ename": "SecretNotFoundError",
          "evalue": "Secret WANDB_API_KEY does not exist.",
          "traceback": [
            "\u001b[0;31m---------------------------------------------------------------------------\u001b[0m",
            "\u001b[0;31mSecretNotFoundError\u001b[0m                       Traceback (most recent call last)",
            "\u001b[0;32m/tmp/ipython-input-6-2177419723.py\u001b[0m in \u001b[0;36m<cell line: 0>\u001b[0;34m()\u001b[0m\n\u001b[1;32m      3\u001b[0m \u001b[0;32mfrom\u001b[0m \u001b[0mgoogle\u001b[0m\u001b[0;34m.\u001b[0m\u001b[0mcolab\u001b[0m \u001b[0;32mimport\u001b[0m \u001b[0muserdata\u001b[0m\u001b[0;34m\u001b[0m\u001b[0;34m\u001b[0m\u001b[0m\n\u001b[1;32m      4\u001b[0m \u001b[0;34m\u001b[0m\u001b[0m\n\u001b[0;32m----> 5\u001b[0;31m \u001b[0mos\u001b[0m\u001b[0;34m.\u001b[0m\u001b[0menviron\u001b[0m\u001b[0;34m[\u001b[0m\u001b[0;34m\"WANDB_API_KEY\"\u001b[0m\u001b[0;34m]\u001b[0m \u001b[0;34m=\u001b[0m \u001b[0muserdata\u001b[0m\u001b[0;34m.\u001b[0m\u001b[0mget\u001b[0m\u001b[0;34m(\u001b[0m\u001b[0;34m\"WANDB_API_KEY\"\u001b[0m\u001b[0;34m)\u001b[0m  \u001b[0;31m# W&B Models and Weave\u001b[0m\u001b[0;34m\u001b[0m\u001b[0;34m\u001b[0m\u001b[0m\n\u001b[0m\u001b[1;32m      6\u001b[0m os.environ[\"OPENAI_API_KEY\"] = userdata.get(\n\u001b[1;32m      7\u001b[0m     \u001b[0;34m\"OPENAI_API_KEY\"\u001b[0m\u001b[0;34m\u001b[0m\u001b[0;34m\u001b[0m\u001b[0m\n",
            "\u001b[0;32m/usr/local/lib/python3.11/dist-packages/google/colab/userdata.py\u001b[0m in \u001b[0;36mget\u001b[0;34m(key)\u001b[0m\n\u001b[1;32m     66\u001b[0m     \u001b[0;32mraise\u001b[0m \u001b[0mTimeoutException\u001b[0m\u001b[0;34m(\u001b[0m\u001b[0mkey\u001b[0m\u001b[0;34m)\u001b[0m\u001b[0;34m\u001b[0m\u001b[0;34m\u001b[0m\u001b[0m\n\u001b[1;32m     67\u001b[0m   \u001b[0;32mif\u001b[0m \u001b[0;32mnot\u001b[0m \u001b[0mresp\u001b[0m\u001b[0;34m.\u001b[0m\u001b[0mget\u001b[0m\u001b[0;34m(\u001b[0m\u001b[0;34m'exists'\u001b[0m\u001b[0;34m,\u001b[0m \u001b[0;32mFalse\u001b[0m\u001b[0;34m)\u001b[0m\u001b[0;34m:\u001b[0m\u001b[0;34m\u001b[0m\u001b[0;34m\u001b[0m\u001b[0m\n\u001b[0;32m---> 68\u001b[0;31m     \u001b[0;32mraise\u001b[0m \u001b[0mSecretNotFoundError\u001b[0m\u001b[0;34m(\u001b[0m\u001b[0mkey\u001b[0m\u001b[0;34m)\u001b[0m\u001b[0;34m\u001b[0m\u001b[0;34m\u001b[0m\u001b[0m\n\u001b[0m\u001b[1;32m     69\u001b[0m   \u001b[0;32mif\u001b[0m \u001b[0;32mnot\u001b[0m \u001b[0mresp\u001b[0m\u001b[0;34m.\u001b[0m\u001b[0mget\u001b[0m\u001b[0;34m(\u001b[0m\u001b[0;34m'access'\u001b[0m\u001b[0;34m,\u001b[0m \u001b[0;32mFalse\u001b[0m\u001b[0;34m)\u001b[0m\u001b[0;34m:\u001b[0m\u001b[0;34m\u001b[0m\u001b[0;34m\u001b[0m\u001b[0m\n\u001b[1;32m     70\u001b[0m     \u001b[0;32mraise\u001b[0m \u001b[0mNotebookAccessError\u001b[0m\u001b[0;34m(\u001b[0m\u001b[0mkey\u001b[0m\u001b[0;34m)\u001b[0m\u001b[0;34m\u001b[0m\u001b[0;34m\u001b[0m\u001b[0m\n",
            "\u001b[0;31mSecretNotFoundError\u001b[0m: Secret WANDB_API_KEY does not exist."
          ]
        }
      ],
      "source": [
        "import os\n",
        "\n",
        "from google.colab import userdata\n",
        "\n",
        "os.environ[\"WANDB_API_KEY\"] = userdata.get(\"WANDB_API_KEY\")  # W&B Models and Weave\n",
        "os.environ[\"OPENAI_API_KEY\"] = userdata.get(\n",
        "    \"OPENAI_API_KEY\"\n",
        ")  # OpenAI - for retrieval embeddings\n",
        "os.environ[\"GEMINI_API_KEY\"] = userdata.get(\n",
        "    \"GEMINI_API_KEY\"\n",
        ")  # Gemini - for the base chat model"
      ]
    },
    {
      "cell_type": "markdown",
      "metadata": {
        "id": "CaszGN21227v"
      },
      "source": [
        "3. Log in to W&B, and create a new project."
      ]
    },
    {
      "cell_type": "code",
      "execution_count": null,
      "metadata": {
        "id": "NJ5RxK2X37ih"
      },
      "outputs": [],
      "source": [
        "import pandas as pd\n",
        "import wandb\n",
        "\n",
        "import weave\n",
        "\n",
        "wandb.login()\n",
        "\n",
        "PROJECT = \"weave-cookboook-demo\"\n",
        "ENTITY = \"wandb-smle\"\n",
        "\n",
        "weave.init(ENTITY + \"/\" + PROJECT)"
      ]
    },
    {
      "cell_type": "markdown",
      "metadata": {
        "id": "SVbGavX9RHbk"
      },
      "source": [
        "##  Download `ChatModel` from Models Registry and implement `UnslothLoRAChatModel`\n",
        "\n",
        "In our scenario, the Llama-3.2 model has already been fine-tuned by the Model Team using the `unsloth` library for performance optimization, and is [available in the W&B Models Registry](https://wandb.ai/wandb-smle/weave-cookboook-demo/weave/object-versions?filter=%7B%22objectName%22%3A%22RagModel%22%7D&peekPath=%2Fwandb-smle%2Fweave-rag-experiments%2Fobjects%2FChatModelRag%2Fversions%2F2mhdPb667uoFlXStXtZ0MuYoxPaiAXj3KyLS1kYRi84%3F%26). In this step, we'll retrieve the fine-tuned [`ChatModel`](https://wandb.ai/wandb-smle/weave-cookboook-demo/weave/object-versions?filter=%7B%22objectName%22%3A%22RagModel%22%7D&peekPath=%2Fwandb-smle%2Fweave-rag-experiments%2Fobjects%2FChatModelRag%2Fversions%2F2mhdPb667uoFlXStXtZ0MuYoxPaiAXj3KyLS1kYRi84%3F%26) from the Registry and convert it into a `weave.Model` to make it compatible with the [`RagModel`](https://wandb.ai/wandb-smle/weave-cookboook-demo/weave/object-versions?filter=%7B%22objectName%22%3A%22RagModel%22%7D&peekPath=%2Fwandb-smle%2Fweave-cookboook-demo%2Fobjects%2FRagModel%2Fversions%2FcqRaGKcxutBWXyM0fCGTR1Yk2mISLsNari4wlGTwERo%3F%26).\n",
        "\n",
        ":::important\n",
        "The `RagModel` referenced below is a top-level `weave.Model` that can be considered a complete RAG Application. It contains a `ChatModel`, vector database, and a prompt. The `ChatModel` is also a `weave.Model`, which contains code to download an artifact from the W&B Registry. `ChatModel` can be changed modularly to support any kind of other LLM chat model as part of the `RagModel`. For more information, [view the model in Weave](https://wandb.ai/wandb-smle/weave-cookboook-demo/weave/evaluations?peekPath=%2Fwandb-smle%2Fweave-cookboook-demo%2Fobjects%2FRagModel%2Fversions%2Fx7MzcgHDrGXYHHDQ9BA8N89qDwcGkdSdpxH30ubm8ZM%3F%26).\n",
        ":::\n",
        "\n",
        "To load the `ChatModel`, `unsloth.FastLanguageModel` or `peft.AutoPeftModelForCausalLM` with adapters are used, enabling efficient integration into the app. After downloading the model from the Registry, you can set up the initialization and prediction logic by using the `model_post_init` method. The required code for this step is available in the **Use** tab of the Registry and can be copied directly into your implementation"
      ]
    },
    {
      "cell_type": "code",
      "source": [],
      "metadata": {
        "id": "ZYEF9VJ_lXzs"
      },
      "execution_count": null,
      "outputs": []
    },
    {
      "cell_type": "markdown",
      "metadata": {
        "id": "8K3KF5r-227w"
      },
      "source": [
        "The code below defines the `UnslothLoRAChatModel` class to manage, initialize, and use the fine-tuned Llama-3.2 model retrieved from the W&B Models Registry. `UnslothLoRAChatModel` uses `unsloth.FastLanguageModel` for optimized inference. The `model_post_init` method handles downloading and setting up the model, while the `predict` method processes user queries and generates responses. To adapt the code for your use case, update the `MODEL_REG_URL` with the correct Registry path for your fine-tuned model and adjust parameters like `max_seq_length` or `dtype` based on your hardware or requirements.\n"
      ]
    },
    {
      "cell_type": "code",
      "execution_count": null,
      "metadata": {
        "collapsed": true,
        "id": "Er1xN7d8SZrp"
      },
      "outputs": [],
      "source": [
        "from typing import Any\n",
        "\n",
        "from pydantic import PrivateAttr\n",
        "from unsloth import FastLanguageModel\n",
        "\n",
        "import weave\n",
        "\n",
        "\n",
        "class UnslothLoRAChatModel(weave.Model):\n",
        "    \"\"\"\n",
        "    We define an extra ChatModel class to be able store and version more parameters than just the model name.\n",
        "    Especially, relevant if we consider fine-tuning (locally or aaS) because of specific parameters.\n",
        "    \"\"\"\n",
        "\n",
        "    chat_model: str\n",
        "    cm_temperature: float\n",
        "    cm_max_new_tokens: int\n",
        "    cm_quantize: bool\n",
        "    inference_batch_size: int\n",
        "    dtype: Any\n",
        "    device: str\n",
        "    _model: Any = PrivateAttr()\n",
        "    _tokenizer: Any = PrivateAttr()\n",
        "\n",
        "    def model_post_init(self, __context):\n",
        "        # we can simply paste this from the \"Use\" tab from the registry\n",
        "        run = wandb.init(project=PROJECT, job_type=\"model_download\")\n",
        "        artifact = run.use_artifact(f\"{self.chat_model}\")\n",
        "        model_path = artifact.download()\n",
        "\n",
        "        # unsloth version (enable native 2x faster inference)\n",
        "        self._model, self._tokenizer = FastLanguageModel.from_pretrained(\n",
        "            model_name=model_path,\n",
        "            max_seq_length=self.cm_max_new_tokens,\n",
        "            dtype=self.dtype,\n",
        "            load_in_4bit=self.cm_quantize,\n",
        "        )\n",
        "        FastLanguageModel.for_inference(self._model)\n",
        "\n",
        "    @weave.op()\n",
        "    async def predict(self, query: list[str]) -> dict:\n",
        "        # add_generation_prompt = true - Must add for generation\n",
        "        input_ids = self._tokenizer.apply_chat_template(\n",
        "            query,\n",
        "            tokenize=True,\n",
        "            add_generation_prompt=True,\n",
        "            return_tensors=\"pt\",\n",
        "        ).to(\"cuda\")\n",
        "\n",
        "        output_ids = self._model.generate(\n",
        "            input_ids=input_ids,\n",
        "            max_new_tokens=64,\n",
        "            use_cache=True,\n",
        "            temperature=1.5,\n",
        "            min_p=0.1,\n",
        "        )\n",
        "\n",
        "        decoded_outputs = self._tokenizer.batch_decode(\n",
        "            output_ids[0][input_ids.shape[1] :], skip_special_tokens=True\n",
        "        )\n",
        "\n",
        "        return \"\".join(decoded_outputs).strip()"
      ]
    },
    {
      "cell_type": "code",
      "execution_count": null,
      "metadata": {
        "collapsed": true,
        "id": "nQnjivD-UOAq"
      },
      "outputs": [],
      "source": [
        "MODEL_REG_URL = \"wandb32/wandb-registry-RAG Chat Models/Finetuned Llama-3.2:v3\"\n",
        "\n",
        "max_seq_length = 2048  # Choose any! We auto support RoPE Scaling internally!\n",
        "dtype = (\n",
        "    None  # None for auto detection. Float16 for Tesla T4, V100, Bfloat16 for Ampere+\n",
        ")\n",
        "load_in_4bit = True  # Use 4bit quantization to reduce memory usage. Can be False.\n",
        "\n",
        "new_chat_model = UnslothLoRAChatModel(\n",
        "    name=\"UnslothLoRAChatModelRag\",\n",
        "    chat_model=MODEL_REG_URL,\n",
        "    cm_temperature=1.0,\n",
        "    cm_max_new_tokens=max_seq_length,\n",
        "    cm_quantize=load_in_4bit,\n",
        "    inference_batch_size=max_seq_length,\n",
        "    dtype=dtype,\n",
        "    device=\"auto\",\n",
        ")"
      ]
    },
    {
      "cell_type": "code",
      "execution_count": null,
      "metadata": {
        "id": "l2BwLe88fzV0"
      },
      "outputs": [],
      "source": [
        "await new_chat_model.predict(\n",
        "    [{\"role\": \"user\", \"content\": \"What is the capital of Germany?\"}]\n",
        ")"
      ]
    },
    {
      "cell_type": "markdown",
      "metadata": {
        "id": "ffttTqrDRSkH"
      },
      "source": [
        "## Integrate the new `ChatModel` version into `RagModel`\n",
        "\n",
        "Building a RAG application from a fine-tuned chat model improves conversational AI by using tailored components without having to rebuild the entire pipeline. In this step, we retrieve the existing `RagModel` from our Weave project and update its `ChatModel` to use the newly fine-tuned model. This seamless swap means that other components like the vector database (VDB) and prompts remain untouched, preserving the application's overall structure while improving performance.\n",
        "\n",
        "The code below retrieves the `RagModel` object using a reference from the Weave project. The `chat_model` attribute of the `RagModel` is then updated to use the new `UnslothLoRAChatModel` instance created in the previous step. After this, the updated `RagModel` is published to create a new version. Finally, the updated `RagModel` is used to run a sample prediction query, verifying that the new chat model is being used.\n"
      ]
    },
    {
      "cell_type": "code",
      "execution_count": null,
      "metadata": {
        "id": "2K69NJTTg1fr"
      },
      "outputs": [],
      "source": [
        "RagModel = weave.ref(\n",
        "    \"weave:///wandb-smle/weave-cookboook-demo/object/RagModel:cqRaGKcxutBWXyM0fCGTR1Yk2mISLsNari4wlGTwERo\"\n",
        ").get()"
      ]
    },
    {
      "cell_type": "code",
      "execution_count": null,
      "metadata": {
        "id": "lkunDX7Qk3DV"
      },
      "outputs": [],
      "source": [
        "RagModel.chat_model.chat_model"
      ]
    },
    {
      "cell_type": "code",
      "execution_count": null,
      "metadata": {
        "collapsed": true,
        "id": "wxWaGYo0j7My"
      },
      "outputs": [],
      "source": [
        "await RagModel.predict(\"When was the first conference on climate change?\")"
      ]
    },
    {
      "cell_type": "code",
      "execution_count": null,
      "metadata": {
        "collapsed": true,
        "id": "vZTs9Q0Lq0nz"
      },
      "outputs": [],
      "source": [
        "# MAGIC: exchange chat_model and publish new version (no need to worry about other RAG components)\n",
        "RagModel.chat_model = new_chat_model"
      ]
    },
    {
      "cell_type": "code",
      "execution_count": null,
      "metadata": {
        "id": "V2biCY_2jhr_"
      },
      "outputs": [],
      "source": [
        "RagModel.chat_model.chat_model"
      ]
    },
    {
      "cell_type": "code",
      "execution_count": null,
      "metadata": {
        "id": "z1YVB3bYq2US"
      },
      "outputs": [],
      "source": [
        "# first publish new version so that in prediction we reference new version\n",
        "PUB_REFERENCE = weave.publish(RagModel, \"RagModel\")"
      ]
    },
    {
      "cell_type": "code",
      "execution_count": null,
      "metadata": {
        "collapsed": true,
        "id": "6JKXOzhJjpTZ"
      },
      "outputs": [],
      "source": [
        "await RagModel.predict(\"When was the first conference on climate change?\")"
      ]
    },
    {
      "cell_type": "markdown",
      "metadata": {
        "id": "FyrA3OERg35D"
      },
      "source": [
        "## Run a `weave.Evaluation`\n",
        "\n",
        "In the next step, we evaluate the performance of our updated `RagModel` using an existing `weave.Evaluation`. This process ensures that the new fine-tuned chat model is performing as expected within the RAG application. To streamline integration and enable collaboration between the Models and Apps teams, we log evaluation results for both the model's W&B run and as part of the Weave workspace.\n",
        "\n",
        "In Models:\n",
        "- The evaluation summary is logged to the W&B run used to download the fine-tuned chat model. This includes summary metrics and graphs displayed in a [workspace view](https://wandb.ai/wandb-smle/weave-cookboook-demo/workspace?nw=eglm8z7o9) for analysis.\n",
        "- The evaluation trace ID is added to the run's configuration, linking directly to the Weave page for easier traceability by the Model Team.\n",
        "\n",
        "In Weave:\n",
        "- The artifact or registry link for the `ChatModel` is stored as an input to the `RagModel`.\n",
        "- The W&B run ID is saved as an extra column in the evaluation traces for better context.\n",
        "\n",
        "The code below demonstrates how to retrieve an evaluation object, execute the evaluation using the updated `RagModel`, and log the results to both W&B and Weave. Ensure that the evaluation reference (`WEAVE_EVAL`) matches your project setup.\n"
      ]
    },
    {
      "cell_type": "code",
      "execution_count": null,
      "metadata": {
        "id": "nrFn_viXKsDE"
      },
      "outputs": [],
      "source": [
        "# MAGIC: we can simply get an evaluation with a eval dataset and scorers and use them\n",
        "WEAVE_EVAL = \"weave:///wandb-smle/weave-cookboook-demo/object/climate_rag_eval:ntRX6qn3Tx6w3UEVZXdhIh1BWGh7uXcQpOQnIuvnSgo\"\n",
        "climate_rag_eval = weave.ref(WEAVE_EVAL).get()"
      ]
    },
    {
      "cell_type": "code",
      "execution_count": null,
      "metadata": {
        "id": "IL5dT2iIrs3d"
      },
      "outputs": [],
      "source": [
        "with weave.attributes({\"wandb-run-id\": wandb.run.id}):\n",
        "    # use .call attribute to retrieve both the result and the call in order to save eval trace to Models\n",
        "    summary, call = await climate_rag_eval.evaluate.call(climate_rag_eval, RagModel)"
      ]
    },
    {
      "cell_type": "code",
      "execution_count": null,
      "metadata": {
        "id": "bzBFTxDe2p9M"
      },
      "outputs": [],
      "source": [
        "# log to models\n",
        "wandb.run.log(pd.json_normalize(summary, sep=\"/\").to_dict(orient=\"records\")[0])\n",
        "wandb.run.config.update(\n",
        "    {\"weave_url\": f\"https://wandb.ai/wandb-smle/weave-cookboook-demo/r/call/{call.id}\"}\n",
        ")\n",
        "wandb.run.finish()"
      ]
    },
    {
      "cell_type": "markdown",
      "metadata": {
        "id": "HLhXLSnzuSbl"
      },
      "source": [
        "## Save the new RAG Model to the Registry\n",
        "\n",
        "To make the updated `RagModel` available for future use by both the Models and Apps teams, we push it to the W&B Models Registry as a reference artifact.\n",
        "\n",
        "The code below retrieves the `weave` object version and name for the updated `RagModel` and uses them to create reference links. A new artifact is then created in W&B with metadata containing the model's Weave URL. This artifact is logged to the W&B Registry and linked to a designated registry path.\n",
        "\n",
        "Before running the code, ensure the `ENTITY` and `PROJECT` variables match your W&B setup, and the target registry path is correctly specified. This process finalizes the workflow by publishing the new `RagModel` to the W&B ecosystem for easy collaboration and reuse.\n"
      ]
    },
    {
      "cell_type": "code",
      "execution_count": null,
      "metadata": {
        "id": "Hm02Pa5KuRM-"
      },
      "outputs": [],
      "source": [
        "MODELS_OBJECT_VERSION = PUB_REFERENCE.digest  # weave object version\n",
        "MODELS_OBJECT_NAME = PUB_REFERENCE.name  # weave object name"
      ]
    },
    {
      "cell_type": "code",
      "execution_count": null,
      "metadata": {
        "id": "x0gdU1zitSfM"
      },
      "outputs": [],
      "source": [
        "models_url = f\"https://wandb.ai/{ENTITY}/{PROJECT}/weave/objects/{MODELS_OBJECT_NAME}/versions/{MODELS_OBJECT_VERSION}\"\n",
        "models_link = (\n",
        "    f\"weave:///{ENTITY}/{PROJECT}/object/{MODELS_OBJECT_NAME}:{MODELS_OBJECT_VERSION}\"\n",
        ")\n",
        "\n",
        "with wandb.init(project=PROJECT, entity=ENTITY) as run:\n",
        "    # create new Artifact\n",
        "    artifact_model = wandb.Artifact(\n",
        "        name=\"RagModel\",\n",
        "        type=\"model\",\n",
        "        description=\"Models Link from RagModel in Weave\",\n",
        "        metadata={\"url\": models_url},\n",
        "    )\n",
        "    artifact_model.add_reference(models_link, name=\"model\", checksum=False)\n",
        "\n",
        "    # log new artifact\n",
        "    run.log_artifact(artifact_model, aliases=[MODELS_OBJECT_VERSION])\n",
        "\n",
        "    # link to registry\n",
        "    run.link_artifact(\n",
        "        artifact_model, target_path=\"wandb32/wandb-registry-RAG Models/RAG Model\"\n",
        "    )"
      ]
    },
    {
      "cell_type": "code",
      "source": [],
      "metadata": {
        "id": "nC8oVxZW3Hnu"
      },
      "execution_count": null,
      "outputs": []
    },
    {
      "cell_type": "code",
      "source": [],
      "metadata": {
        "id": "oklQ_q6c24oW"
      },
      "execution_count": null,
      "outputs": []
    }
  ],
  "metadata": {
    "colab": {
      "gpuType": "T4",
      "provenance": [],
      "include_colab_link": true
    },
    "kernelspec": {
      "display_name": "Python 3",
      "name": "python3"
    },
    "language_info": {
      "name": "python"
    }
  },
  "nbformat": 4,
  "nbformat_minor": 0
}